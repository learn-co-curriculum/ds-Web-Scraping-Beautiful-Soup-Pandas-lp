{
 "cells": [
  {
   "cell_type": "markdown",
   "metadata": {},
   "source": [
    "# Web Scraping Intro"
   ]
  },
  {
   "cell_type": "markdown",
   "metadata": {},
   "source": [
    "Ideally we want the data formatted for us but sometimes it's not clean.\n",
    "\n",
    "Usual order of preference:\n",
    "1. Direct access to formatted data (database, CSV, etc.)\n",
    "2. API call to get data\n",
    "3. Scrape the data\n",
    "4. Other sources...."
   ]
  },
  {
   "cell_type": "markdown",
   "metadata": {},
   "source": [
    "# Let's Do Some Web Scraping"
   ]
  },
  {
   "cell_type": "markdown",
   "metadata": {},
   "source": [
    "## The DOM  - Document Object Model"
   ]
  },
  {
   "cell_type": "markdown",
   "metadata": {},
   "source": [
    "A way for us to think of the document structure; allows us to parse through\n",
    "\n",
    "Think of siblings, children/descendents, parents"
   ]
  },
  {
   "cell_type": "markdown",
   "metadata": {},
   "source": [
    "## Scrape the DOM with Beautiful Soup"
   ]
  },
  {
   "cell_type": "markdown",
   "metadata": {},
   "source": [
    "- Relatively fast execution in the parser\n",
    "- Uses natural, Pythonic calls\n",
    "- Does encodings (how the site is written)"
   ]
  },
  {
   "cell_type": "code",
   "execution_count": null,
   "metadata": {
    "ExecuteTime": {
     "end_time": "2019-06-25T02:08:35.331689Z",
     "start_time": "2019-06-25T02:08:35.089077Z"
    }
   },
   "outputs": [],
   "source": [
    "# Note the import looks different\n",
    "from bs4 import BeautifulSoup\n",
    "# Requests (we've seen this already) gets the webpage\n",
    "import requests\n",
    "# Regular expressions allows us to parse text easier\n",
    "import re"
   ]
  },
  {
   "cell_type": "markdown",
   "metadata": {},
   "source": [
    "### Get the page"
   ]
  },
  {
   "cell_type": "code",
   "execution_count": null,
   "metadata": {
    "ExecuteTime": {
     "end_time": "2019-06-25T02:08:35.336464Z",
     "start_time": "2019-06-25T02:08:35.334078Z"
    }
   },
   "outputs": [],
   "source": [
    "def getSoup(url):\n",
    "    webpage = requests.get(url)\n",
    "    return (webpage, BeautifulSoup(webpage.content, 'html.parser'))"
   ]
  },
  {
   "cell_type": "code",
   "execution_count": null,
   "metadata": {
    "ExecuteTime": {
     "end_time": "2019-06-25T02:08:36.441376Z",
     "start_time": "2019-06-25T02:08:35.337840Z"
    }
   },
   "outputs": [],
   "source": [
    "page, soup = getSoup(\"https://www.androidpolice.com/\")"
   ]
  },
  {
   "cell_type": "code",
   "execution_count": null,
   "metadata": {
    "ExecuteTime": {
     "end_time": "2019-06-25T02:08:36.458038Z",
     "start_time": "2019-06-25T02:08:36.443981Z"
    }
   },
   "outputs": [],
   "source": [
    "page.content"
   ]
  },
  {
   "cell_type": "code",
   "execution_count": null,
   "metadata": {
    "ExecuteTime": {
     "end_time": "2019-06-25T02:08:36.698603Z",
     "start_time": "2019-06-25T02:08:36.459928Z"
    }
   },
   "outputs": [],
   "source": [
    "soup"
   ]
  },
  {
   "cell_type": "markdown",
   "metadata": {},
   "source": [
    "### Parse the page"
   ]
  },
  {
   "cell_type": "code",
   "execution_count": null,
   "metadata": {
    "ExecuteTime": {
     "end_time": "2019-06-25T02:08:36.702817Z",
     "start_time": "2019-06-25T02:08:36.699687Z"
    }
   },
   "outputs": [],
   "source": [
    "images = soup.find_all('img')"
   ]
  },
  {
   "cell_type": "code",
   "execution_count": null,
   "metadata": {
    "ExecuteTime": {
     "end_time": "2019-06-25T02:08:36.707132Z",
     "start_time": "2019-06-25T02:08:36.704422Z"
    }
   },
   "outputs": [],
   "source": [
    "print(len(images))\n",
    "print(images[1])\n",
    "print(images[1]['src'])"
   ]
  },
  {
   "cell_type": "code",
   "execution_count": null,
   "metadata": {
    "ExecuteTime": {
     "end_time": "2019-06-25T02:08:36.712039Z",
     "start_time": "2019-06-25T02:08:36.708239Z"
    }
   },
   "outputs": [],
   "source": [
    "div = soup.find_all('div')\n",
    "len(div)"
   ]
  },
  {
   "cell_type": "code",
   "execution_count": null,
   "metadata": {
    "ExecuteTime": {
     "end_time": "2019-06-25T02:08:36.717278Z",
     "start_time": "2019-06-25T02:08:36.713473Z"
    },
    "scrolled": true
   },
   "outputs": [],
   "source": [
    "div[:10]"
   ]
  },
  {
   "cell_type": "code",
   "execution_count": null,
   "metadata": {
    "ExecuteTime": {
     "end_time": "2019-06-25T02:08:36.721238Z",
     "start_time": "2019-06-25T02:08:36.718392Z"
    }
   },
   "outputs": [],
   "source": [
    "div[4].findNextSiblings()"
   ]
  },
  {
   "cell_type": "code",
   "execution_count": null,
   "metadata": {
    "ExecuteTime": {
     "end_time": "2019-06-25T02:08:36.738989Z",
     "start_time": "2019-06-25T02:08:36.722450Z"
    }
   },
   "outputs": [],
   "source": [
    "# soup.find('div', {\"class\": \"post\"})\n",
    "d = soup.find_all('div', {\"class\": \"post\"})\n",
    "len(d)"
   ]
  },
  {
   "cell_type": "code",
   "execution_count": null,
   "metadata": {
    "ExecuteTime": {
     "end_time": "2019-06-25T02:08:36.749636Z",
     "start_time": "2019-06-25T02:08:36.739990Z"
    },
    "scrolled": true
   },
   "outputs": [],
   "source": [
    "d[1]"
   ]
  }
 ],
 "metadata": {
  "kernelspec": {
   "display_name": "Python 3",
   "language": "python",
   "name": "python3"
  },
  "language_info": {
   "codemirror_mode": {
    "name": "ipython",
    "version": 3
   },
   "file_extension": ".py",
   "mimetype": "text/x-python",
   "name": "python",
   "nbconvert_exporter": "python",
   "pygments_lexer": "ipython3",
   "version": "3.6.6"
  },
  "toc": {
   "base_numbering": 1,
   "nav_menu": {},
   "number_sections": true,
   "sideBar": true,
   "skip_h1_title": false,
   "title_cell": "Table of Contents",
   "title_sidebar": "Contents",
   "toc_cell": false,
   "toc_position": {},
   "toc_section_display": true,
   "toc_window_display": false
  },
  "varInspector": {
   "cols": {
    "lenName": 16,
    "lenType": 16,
    "lenVar": 40
   },
   "kernels_config": {
    "python": {
     "delete_cmd_postfix": "",
     "delete_cmd_prefix": "del ",
     "library": "var_list.py",
     "varRefreshCmd": "print(var_dic_list())"
    },
    "r": {
     "delete_cmd_postfix": ") ",
     "delete_cmd_prefix": "rm(",
     "library": "var_list.r",
     "varRefreshCmd": "cat(var_dic_list()) "
    }
   },
   "types_to_exclude": [
    "module",
    "function",
    "builtin_function_or_method",
    "instance",
    "_Feature"
   ],
   "window_display": false
  }
 },
 "nbformat": 4,
 "nbformat_minor": 2
}
